{
 "cells": [
  {
   "cell_type": "code",
   "execution_count": 1,
   "metadata": {
    "ExecuteTime": {
     "end_time": "2024-01-09T12:21:39.993860Z",
     "start_time": "2024-01-09T12:21:39.762033Z"
    }
   },
   "outputs": [],
   "source": [
    "import os\n",
    "\n",
    "os.environ['TF_CUDNN_DETERMINISTIC'] = '1'"
   ]
  },
  {
   "cell_type": "code",
   "execution_count": 2,
   "metadata": {
    "ExecuteTime": {
     "end_time": "2024-01-09T12:21:49.107751Z",
     "start_time": "2024-01-09T12:21:39.781133Z"
    }
   },
   "outputs": [
    {
     "data": {
      "text/plain": [
       "[PhysicalDevice(name='/physical_device:CPU:0', device_type='CPU')]"
      ]
     },
     "execution_count": 2,
     "metadata": {},
     "output_type": "execute_result"
    }
   ],
   "source": [
    "import tensorflow as tf\n",
    "\n",
    "tf.config.set_visible_devices([], 'GPU')\n",
    "tf.config.get_visible_devices()"
   ]
  },
  {
   "cell_type": "code",
   "execution_count": 3,
   "metadata": {
    "ExecuteTime": {
     "end_time": "2024-01-09T12:21:51.321602Z",
     "start_time": "2024-01-09T12:21:49.093978Z"
    }
   },
   "outputs": [],
   "source": [
    "import glob\n",
    "from IPython.core.display_functions import clear_output"
   ]
  },
  {
   "cell_type": "code",
   "execution_count": null,
   "metadata": {},
   "outputs": [],
   "source": [
    "import sys  \n",
    "sys.path.insert(1, '../../../')\n",
    "\n",
    "import generate_dataset\n",
    "import experiment, autoencoders"
   ]
  },
  {
   "cell_type": "markdown",
   "metadata": {},
   "source": [
    "### Parameters"
   ]
  },
  {
   "cell_type": "code",
   "execution_count": 4,
   "metadata": {
    "ExecuteTime": {
     "end_time": "2024-01-09T12:21:51.325081Z",
     "start_time": "2024-01-09T12:21:51.323288Z"
    }
   },
   "outputs": [],
   "source": [
    "num_endmembers = 5\n",
    "spectral_size = 1000\n",
    "image_size = 100\n",
    "epochs = 10\n",
    "ae_loss = autoencoders.SAD\n",
    "model_replicates = 5\n",
    "\n",
    "scenes = ['chessboard', 'gaussian', 'dirichlet']\n",
    "\n",
    "data_seeds = [1, 2, 3, 4, 5]\n",
    "experiment_seed = 42\n",
    "\n",
    "data_folder = 'generated data'\n",
    "results_folder = 'results'"
   ]
  },
  {
   "cell_type": "code",
   "execution_count": 5,
   "metadata": {
    "ExecuteTime": {
     "end_time": "2024-01-09T12:21:51.328419Z",
     "start_time": "2024-01-09T12:21:51.326848Z"
    }
   },
   "outputs": [],
   "source": [
    "def display_results(metrics):\n",
    "    results_order = ['PCA', 'N-FINDR + FCLS', 'VCA + FCLS', 'Dense AE', 'Convolutional AE', 'Transformer AE', 'Convolutional Transformer AE']\n",
    "\n",
    "    metrics['SAD'] = metrics[['SAD_mean', 'SAD_std']].apply(lambda x: ' ± '.join(x.round(3).astype(str)), axis=1)\n",
    "    metrics['PCC'] = metrics[['PCC_mean', 'PCC_std']].apply(lambda x: ' ± '.join(x.round(3).astype(str)), axis=1)\n",
    "    metrics['MSE'] = metrics[['MSE_mean', 'MSE_std']].apply(lambda x: ' ± '.join(x.round(3).astype(str)), axis=1)\n",
    "\n",
    "    display(metrics.set_index('index').reindex(results_order)[['SAD', 'PCC', 'MSE']])"
   ]
  },
  {
   "cell_type": "code",
   "execution_count": 6,
   "metadata": {
    "ExecuteTime": {
     "end_time": "2024-01-09T12:21:51.330603Z",
     "start_time": "2024-01-09T12:21:51.328997Z"
    }
   },
   "outputs": [],
   "source": [
    "results = {}"
   ]
  },
  {
   "cell_type": "markdown",
   "metadata": {},
   "source": [
    "### +bilinear scenario"
   ]
  },
  {
   "cell_type": "code",
   "execution_count": 10,
   "metadata": {},
   "outputs": [
    {
     "name": "stdout",
     "output_type": "stream",
     "text": [
      "Results for scene:  chessboard\n"
     ]
    },
    {
     "data": {
      "text/html": [
       "<div>\n",
       "<style scoped>\n",
       "    .dataframe tbody tr th:only-of-type {\n",
       "        vertical-align: middle;\n",
       "    }\n",
       "\n",
       "    .dataframe tbody tr th {\n",
       "        vertical-align: top;\n",
       "    }\n",
       "\n",
       "    .dataframe thead th {\n",
       "        text-align: right;\n",
       "    }\n",
       "</style>\n",
       "<table border=\"1\" class=\"dataframe\">\n",
       "  <thead>\n",
       "    <tr style=\"text-align: right;\">\n",
       "      <th></th>\n",
       "      <th>SAD</th>\n",
       "      <th>PCC</th>\n",
       "      <th>MSE</th>\n",
       "    </tr>\n",
       "    <tr>\n",
       "      <th>index</th>\n",
       "      <th></th>\n",
       "      <th></th>\n",
       "      <th></th>\n",
       "    </tr>\n",
       "  </thead>\n",
       "  <tbody>\n",
       "    <tr>\n",
       "      <th>PCA</th>\n",
       "      <td>0.967 ± 0.074</td>\n",
       "      <td>0.381 ± 0.093</td>\n",
       "      <td>88.132 ± 50.053</td>\n",
       "    </tr>\n",
       "    <tr>\n",
       "      <th>N-FINDR + FCLS</th>\n",
       "      <td>0.361 ± 0.062</td>\n",
       "      <td>0.19 ± 0.085</td>\n",
       "      <td>0.072 ± 0.04</td>\n",
       "    </tr>\n",
       "    <tr>\n",
       "      <th>VCA + FCLS</th>\n",
       "      <td>0.173 ± 0.079</td>\n",
       "      <td>0.091 ± 0.094</td>\n",
       "      <td>0.061 ± 0.038</td>\n",
       "    </tr>\n",
       "    <tr>\n",
       "      <th>Dense AE</th>\n",
       "      <td>0.045 ± 0.024</td>\n",
       "      <td>0.005 ± 0.01</td>\n",
       "      <td>0.03 ± 0.023</td>\n",
       "    </tr>\n",
       "    <tr>\n",
       "      <th>Convolutional AE</th>\n",
       "      <td>0.054 ± 0.013</td>\n",
       "      <td>0.003 ± 0.002</td>\n",
       "      <td>0.019 ± 0.008</td>\n",
       "    </tr>\n",
       "    <tr>\n",
       "      <th>Transformer AE</th>\n",
       "      <td>0.039 ± 0.005</td>\n",
       "      <td>0.001 ± 0.0</td>\n",
       "      <td>0.018 ± 0.009</td>\n",
       "    </tr>\n",
       "    <tr>\n",
       "      <th>Convolutional Transformer AE</th>\n",
       "      <td>0.04 ± 0.005</td>\n",
       "      <td>0.002 ± 0.001</td>\n",
       "      <td>0.018 ± 0.008</td>\n",
       "    </tr>\n",
       "  </tbody>\n",
       "</table>\n",
       "</div>"
      ],
      "text/plain": [
       "                                        SAD            PCC              MSE\n",
       "index                                                                      \n",
       "PCA                           0.967 ± 0.074  0.381 ± 0.093  88.132 ± 50.053\n",
       "N-FINDR + FCLS                0.361 ± 0.062   0.19 ± 0.085     0.072 ± 0.04\n",
       "VCA + FCLS                    0.173 ± 0.079  0.091 ± 0.094    0.061 ± 0.038\n",
       "Dense AE                      0.045 ± 0.024   0.005 ± 0.01     0.03 ± 0.023\n",
       "Convolutional AE              0.054 ± 0.013  0.003 ± 0.002    0.019 ± 0.008\n",
       "Transformer AE                0.039 ± 0.005    0.001 ± 0.0    0.018 ± 0.009\n",
       "Convolutional Transformer AE   0.04 ± 0.005  0.002 ± 0.001    0.018 ± 0.008"
      ]
     },
     "metadata": {},
     "output_type": "display_data"
    },
    {
     "name": "stdout",
     "output_type": "stream",
     "text": [
      "Results for scene:  gaussian\n"
     ]
    },
    {
     "data": {
      "text/html": [
       "<div>\n",
       "<style scoped>\n",
       "    .dataframe tbody tr th:only-of-type {\n",
       "        vertical-align: middle;\n",
       "    }\n",
       "\n",
       "    .dataframe tbody tr th {\n",
       "        vertical-align: top;\n",
       "    }\n",
       "\n",
       "    .dataframe thead th {\n",
       "        text-align: right;\n",
       "    }\n",
       "</style>\n",
       "<table border=\"1\" class=\"dataframe\">\n",
       "  <thead>\n",
       "    <tr style=\"text-align: right;\">\n",
       "      <th></th>\n",
       "      <th>SAD</th>\n",
       "      <th>PCC</th>\n",
       "      <th>MSE</th>\n",
       "    </tr>\n",
       "    <tr>\n",
       "      <th>index</th>\n",
       "      <th></th>\n",
       "      <th></th>\n",
       "      <th></th>\n",
       "    </tr>\n",
       "  </thead>\n",
       "  <tbody>\n",
       "    <tr>\n",
       "      <th>PCA</th>\n",
       "      <td>1.117 ± 0.071</td>\n",
       "      <td>0.543 ± 0.076</td>\n",
       "      <td>67.189 ± 48.404</td>\n",
       "    </tr>\n",
       "    <tr>\n",
       "      <th>N-FINDR + FCLS</th>\n",
       "      <td>0.456 ± 0.049</td>\n",
       "      <td>0.313 ± 0.065</td>\n",
       "      <td>0.039 ± 0.016</td>\n",
       "    </tr>\n",
       "    <tr>\n",
       "      <th>VCA + FCLS</th>\n",
       "      <td>0.391 ± 0.058</td>\n",
       "      <td>0.244 ± 0.085</td>\n",
       "      <td>0.057 ± 0.018</td>\n",
       "    </tr>\n",
       "    <tr>\n",
       "      <th>Dense AE</th>\n",
       "      <td>0.261 ± 0.072</td>\n",
       "      <td>0.111 ± 0.079</td>\n",
       "      <td>0.018 ± 0.013</td>\n",
       "    </tr>\n",
       "    <tr>\n",
       "      <th>Convolutional AE</th>\n",
       "      <td>0.209 ± 0.039</td>\n",
       "      <td>0.062 ± 0.026</td>\n",
       "      <td>0.009 ± 0.004</td>\n",
       "    </tr>\n",
       "    <tr>\n",
       "      <th>Transformer AE</th>\n",
       "      <td>0.204 ± 0.044</td>\n",
       "      <td>0.06 ± 0.034</td>\n",
       "      <td>0.011 ± 0.005</td>\n",
       "    </tr>\n",
       "    <tr>\n",
       "      <th>Convolutional Transformer AE</th>\n",
       "      <td>0.205 ± 0.055</td>\n",
       "      <td>0.065 ± 0.052</td>\n",
       "      <td>0.01 ± 0.005</td>\n",
       "    </tr>\n",
       "  </tbody>\n",
       "</table>\n",
       "</div>"
      ],
      "text/plain": [
       "                                        SAD            PCC              MSE\n",
       "index                                                                      \n",
       "PCA                           1.117 ± 0.071  0.543 ± 0.076  67.189 ± 48.404\n",
       "N-FINDR + FCLS                0.456 ± 0.049  0.313 ± 0.065    0.039 ± 0.016\n",
       "VCA + FCLS                    0.391 ± 0.058  0.244 ± 0.085    0.057 ± 0.018\n",
       "Dense AE                      0.261 ± 0.072  0.111 ± 0.079    0.018 ± 0.013\n",
       "Convolutional AE              0.209 ± 0.039  0.062 ± 0.026    0.009 ± 0.004\n",
       "Transformer AE                0.204 ± 0.044   0.06 ± 0.034    0.011 ± 0.005\n",
       "Convolutional Transformer AE  0.205 ± 0.055  0.065 ± 0.052     0.01 ± 0.005"
      ]
     },
     "metadata": {},
     "output_type": "display_data"
    },
    {
     "name": "stdout",
     "output_type": "stream",
     "text": [
      "Results for scene:  dirichlet\n"
     ]
    },
    {
     "data": {
      "text/html": [
       "<div>\n",
       "<style scoped>\n",
       "    .dataframe tbody tr th:only-of-type {\n",
       "        vertical-align: middle;\n",
       "    }\n",
       "\n",
       "    .dataframe tbody tr th {\n",
       "        vertical-align: top;\n",
       "    }\n",
       "\n",
       "    .dataframe thead th {\n",
       "        text-align: right;\n",
       "    }\n",
       "</style>\n",
       "<table border=\"1\" class=\"dataframe\">\n",
       "  <thead>\n",
       "    <tr style=\"text-align: right;\">\n",
       "      <th></th>\n",
       "      <th>SAD</th>\n",
       "      <th>PCC</th>\n",
       "      <th>MSE</th>\n",
       "    </tr>\n",
       "    <tr>\n",
       "      <th>index</th>\n",
       "      <th></th>\n",
       "      <th></th>\n",
       "      <th></th>\n",
       "    </tr>\n",
       "  </thead>\n",
       "  <tbody>\n",
       "    <tr>\n",
       "      <th>PCA</th>\n",
       "      <td>1.038 ± 0.112</td>\n",
       "      <td>0.444 ± 0.112</td>\n",
       "      <td>63.915 ± 48.423</td>\n",
       "    </tr>\n",
       "    <tr>\n",
       "      <th>N-FINDR + FCLS</th>\n",
       "      <td>0.287 ± 0.074</td>\n",
       "      <td>0.143 ± 0.083</td>\n",
       "      <td>0.025 ± 0.015</td>\n",
       "    </tr>\n",
       "    <tr>\n",
       "      <th>VCA + FCLS</th>\n",
       "      <td>0.277 ± 0.082</td>\n",
       "      <td>0.14 ± 0.1</td>\n",
       "      <td>0.03 ± 0.015</td>\n",
       "    </tr>\n",
       "    <tr>\n",
       "      <th>Dense AE</th>\n",
       "      <td>0.099 ± 0.016</td>\n",
       "      <td>0.008 ± 0.007</td>\n",
       "      <td>0.01 ± 0.004</td>\n",
       "    </tr>\n",
       "    <tr>\n",
       "      <th>Convolutional AE</th>\n",
       "      <td>0.093 ± 0.011</td>\n",
       "      <td>0.007 ± 0.001</td>\n",
       "      <td>0.008 ± 0.003</td>\n",
       "    </tr>\n",
       "    <tr>\n",
       "      <th>Transformer AE</th>\n",
       "      <td>0.107 ± 0.012</td>\n",
       "      <td>0.007 ± 0.001</td>\n",
       "      <td>0.008 ± 0.003</td>\n",
       "    </tr>\n",
       "    <tr>\n",
       "      <th>Convolutional Transformer AE</th>\n",
       "      <td>0.111 ± 0.031</td>\n",
       "      <td>0.017 ± 0.047</td>\n",
       "      <td>0.008 ± 0.003</td>\n",
       "    </tr>\n",
       "  </tbody>\n",
       "</table>\n",
       "</div>"
      ],
      "text/plain": [
       "                                        SAD            PCC              MSE\n",
       "index                                                                      \n",
       "PCA                           1.038 ± 0.112  0.444 ± 0.112  63.915 ± 48.423\n",
       "N-FINDR + FCLS                0.287 ± 0.074  0.143 ± 0.083    0.025 ± 0.015\n",
       "VCA + FCLS                    0.277 ± 0.082     0.14 ± 0.1     0.03 ± 0.015\n",
       "Dense AE                      0.099 ± 0.016  0.008 ± 0.007     0.01 ± 0.004\n",
       "Convolutional AE              0.093 ± 0.011  0.007 ± 0.001    0.008 ± 0.003\n",
       "Transformer AE                0.107 ± 0.012  0.007 ± 0.001    0.008 ± 0.003\n",
       "Convolutional Transformer AE  0.111 ± 0.031  0.017 ± 0.047    0.008 ± 0.003"
      ]
     },
     "metadata": {},
     "output_type": "display_data"
    }
   ],
   "source": [
    "folder = 'bilinear_linear_models'\n",
    "\n",
    "results[folder] = {}\n",
    "for scene in scenes:\n",
    "    # Create folders\n",
    "    scene_folder = os.path.join(data_folder, folder, scene)\n",
    "    result_folder = os.path.join(results_folder, folder, scene)\n",
    "\n",
    "    # Generate data\n",
    "    for seed in data_seeds:\n",
    "        _ = generate_dataset.run(scene, num_endmembers, spectral_size, image_size=image_size, output_dir=os.path.join(scene_folder, f'{scene}{seed}'), noise=True, baseline=True, cosmic_spikes=True, realistic_endmembers=True, mixture_mode='bilinear', seed=seed)\n",
    "\n",
    "    # Run experiment\n",
    "    metrics = experiment.run(glob.glob(scene_folder + '/*'), num_endmembers + 1, model_replicates=model_replicates, epochs=epochs, experiment_folder=result_folder, seed=experiment_seed, ae_loss=ae_loss)\n",
    "\n",
    "    results[folder][scene] = metrics\n",
    "\n",
    "clear_output()\n",
    "\n",
    "for scene, metrics in results[folder].items():\n",
    "    print(\"Results for scene: \", scene)\n",
    "    display_results(metrics)"
   ]
  },
  {
   "cell_type": "markdown",
   "metadata": {},
   "source": [
    "##### +bilinear scenario - bilinear models"
   ]
  },
  {
   "cell_type": "code",
   "execution_count": 11,
   "metadata": {},
   "outputs": [
    {
     "name": "stdout",
     "output_type": "stream",
     "text": [
      "Results for scene:  gaussian\n"
     ]
    },
    {
     "data": {
      "text/html": [
       "<div>\n",
       "<style scoped>\n",
       "    .dataframe tbody tr th:only-of-type {\n",
       "        vertical-align: middle;\n",
       "    }\n",
       "\n",
       "    .dataframe tbody tr th {\n",
       "        vertical-align: top;\n",
       "    }\n",
       "\n",
       "    .dataframe thead th {\n",
       "        text-align: right;\n",
       "    }\n",
       "</style>\n",
       "<table border=\"1\" class=\"dataframe\">\n",
       "  <thead>\n",
       "    <tr style=\"text-align: right;\">\n",
       "      <th></th>\n",
       "      <th>SAD</th>\n",
       "      <th>PCC</th>\n",
       "      <th>MSE</th>\n",
       "    </tr>\n",
       "    <tr>\n",
       "      <th>index</th>\n",
       "      <th></th>\n",
       "      <th></th>\n",
       "      <th></th>\n",
       "    </tr>\n",
       "  </thead>\n",
       "  <tbody>\n",
       "    <tr>\n",
       "      <th>PCA</th>\n",
       "      <td>NaN</td>\n",
       "      <td>NaN</td>\n",
       "      <td>NaN</td>\n",
       "    </tr>\n",
       "    <tr>\n",
       "      <th>N-FINDR + FCLS</th>\n",
       "      <td>NaN</td>\n",
       "      <td>NaN</td>\n",
       "      <td>NaN</td>\n",
       "    </tr>\n",
       "    <tr>\n",
       "      <th>VCA + FCLS</th>\n",
       "      <td>NaN</td>\n",
       "      <td>NaN</td>\n",
       "      <td>NaN</td>\n",
       "    </tr>\n",
       "    <tr>\n",
       "      <th>Dense AE</th>\n",
       "      <td>0.247 ± 0.07</td>\n",
       "      <td>0.107 ± 0.086</td>\n",
       "      <td>0.017 ± 0.011</td>\n",
       "    </tr>\n",
       "    <tr>\n",
       "      <th>Convolutional AE</th>\n",
       "      <td>0.194 ± 0.03</td>\n",
       "      <td>0.053 ± 0.019</td>\n",
       "      <td>0.01 ± 0.004</td>\n",
       "    </tr>\n",
       "    <tr>\n",
       "      <th>Transformer AE</th>\n",
       "      <td>0.222 ± 0.084</td>\n",
       "      <td>0.091 ± 0.095</td>\n",
       "      <td>0.012 ± 0.008</td>\n",
       "    </tr>\n",
       "    <tr>\n",
       "      <th>Convolutional Transformer AE</th>\n",
       "      <td>0.208 ± 0.051</td>\n",
       "      <td>0.066 ± 0.045</td>\n",
       "      <td>0.011 ± 0.006</td>\n",
       "    </tr>\n",
       "  </tbody>\n",
       "</table>\n",
       "</div>"
      ],
      "text/plain": [
       "                                        SAD            PCC            MSE\n",
       "index                                                                    \n",
       "PCA                                     NaN            NaN            NaN\n",
       "N-FINDR + FCLS                          NaN            NaN            NaN\n",
       "VCA + FCLS                              NaN            NaN            NaN\n",
       "Dense AE                       0.247 ± 0.07  0.107 ± 0.086  0.017 ± 0.011\n",
       "Convolutional AE               0.194 ± 0.03  0.053 ± 0.019   0.01 ± 0.004\n",
       "Transformer AE                0.222 ± 0.084  0.091 ± 0.095  0.012 ± 0.008\n",
       "Convolutional Transformer AE  0.208 ± 0.051  0.066 ± 0.045  0.011 ± 0.006"
      ]
     },
     "metadata": {},
     "output_type": "display_data"
    },
    {
     "name": "stdout",
     "output_type": "stream",
     "text": [
      "Results for scene:  dirichlet\n"
     ]
    },
    {
     "data": {
      "text/html": [
       "<div>\n",
       "<style scoped>\n",
       "    .dataframe tbody tr th:only-of-type {\n",
       "        vertical-align: middle;\n",
       "    }\n",
       "\n",
       "    .dataframe tbody tr th {\n",
       "        vertical-align: top;\n",
       "    }\n",
       "\n",
       "    .dataframe thead th {\n",
       "        text-align: right;\n",
       "    }\n",
       "</style>\n",
       "<table border=\"1\" class=\"dataframe\">\n",
       "  <thead>\n",
       "    <tr style=\"text-align: right;\">\n",
       "      <th></th>\n",
       "      <th>SAD</th>\n",
       "      <th>PCC</th>\n",
       "      <th>MSE</th>\n",
       "    </tr>\n",
       "    <tr>\n",
       "      <th>index</th>\n",
       "      <th></th>\n",
       "      <th></th>\n",
       "      <th></th>\n",
       "    </tr>\n",
       "  </thead>\n",
       "  <tbody>\n",
       "    <tr>\n",
       "      <th>PCA</th>\n",
       "      <td>NaN</td>\n",
       "      <td>NaN</td>\n",
       "      <td>NaN</td>\n",
       "    </tr>\n",
       "    <tr>\n",
       "      <th>N-FINDR + FCLS</th>\n",
       "      <td>NaN</td>\n",
       "      <td>NaN</td>\n",
       "      <td>NaN</td>\n",
       "    </tr>\n",
       "    <tr>\n",
       "      <th>VCA + FCLS</th>\n",
       "      <td>NaN</td>\n",
       "      <td>NaN</td>\n",
       "      <td>NaN</td>\n",
       "    </tr>\n",
       "    <tr>\n",
       "      <th>Dense AE</th>\n",
       "      <td>0.094 ± 0.011</td>\n",
       "      <td>0.006 ± 0.002</td>\n",
       "      <td>0.01 ± 0.005</td>\n",
       "    </tr>\n",
       "    <tr>\n",
       "      <th>Convolutional AE</th>\n",
       "      <td>0.087 ± 0.01</td>\n",
       "      <td>0.006 ± 0.001</td>\n",
       "      <td>0.008 ± 0.003</td>\n",
       "    </tr>\n",
       "    <tr>\n",
       "      <th>Transformer AE</th>\n",
       "      <td>0.105 ± 0.012</td>\n",
       "      <td>0.007 ± 0.001</td>\n",
       "      <td>0.008 ± 0.003</td>\n",
       "    </tr>\n",
       "    <tr>\n",
       "      <th>Convolutional Transformer AE</th>\n",
       "      <td>0.1 ± 0.01</td>\n",
       "      <td>0.007 ± 0.002</td>\n",
       "      <td>0.008 ± 0.003</td>\n",
       "    </tr>\n",
       "  </tbody>\n",
       "</table>\n",
       "</div>"
      ],
      "text/plain": [
       "                                        SAD            PCC            MSE\n",
       "index                                                                    \n",
       "PCA                                     NaN            NaN            NaN\n",
       "N-FINDR + FCLS                          NaN            NaN            NaN\n",
       "VCA + FCLS                              NaN            NaN            NaN\n",
       "Dense AE                      0.094 ± 0.011  0.006 ± 0.002   0.01 ± 0.005\n",
       "Convolutional AE               0.087 ± 0.01  0.006 ± 0.001  0.008 ± 0.003\n",
       "Transformer AE                0.105 ± 0.012  0.007 ± 0.001  0.008 ± 0.003\n",
       "Convolutional Transformer AE     0.1 ± 0.01  0.007 ± 0.002  0.008 ± 0.003"
      ]
     },
     "metadata": {},
     "output_type": "display_data"
    }
   ],
   "source": [
    "scenes = ['gaussian', 'dirichlet'] # no bilinear mixtures in chessboard\n",
    "\n",
    "folder = 'bilinear_bilinear_models'\n",
    "\n",
    "results[folder] = {}\n",
    "for scene in scenes:\n",
    "    # Create folders\n",
    "    scene_folder = os.path.join(data_folder, folder, scene)\n",
    "    result_folder = os.path.join(results_folder, folder, scene)\n",
    "\n",
    "    # Generate data\n",
    "    for seed in data_seeds:\n",
    "        _ = generate_dataset.run(scene, num_endmembers, spectral_size, image_size=image_size, output_dir=os.path.join(scene_folder, f'{scene}{seed}'), noise=True, baseline=True, cosmic_spikes=True, realistic_endmembers=True, mixture_mode='bilinear', seed=seed)\n",
    "\n",
    "    # Run experiment\n",
    "    metrics = experiment.run(glob.glob(scene_folder + '/*'), num_endmembers + 1, model_replicates=model_replicates, decoder_type='fanbilinear', epochs=epochs, experiment_folder=result_folder, seed=experiment_seed, include_conventional=False, ae_loss=ae_loss)\n",
    "\n",
    "    results[folder][scene] = metrics\n",
    "\n",
    "clear_output()\n",
    "\n",
    "for scene, metrics in results[folder].items():\n",
    "    print(\"Results for scene: \", scene)\n",
    "    display_results(metrics)"
   ]
  },
  {
   "cell_type": "code",
   "execution_count": null,
   "metadata": {},
   "outputs": [],
   "source": []
  }
 ],
 "metadata": {
  "kernelspec": {
   "display_name": "Python 3 (ipykernel)",
   "language": "python",
   "name": "python3"
  },
  "language_info": {
   "codemirror_mode": {
    "name": "ipython",
    "version": 3
   },
   "file_extension": ".py",
   "mimetype": "text/x-python",
   "name": "python",
   "nbconvert_exporter": "python",
   "pygments_lexer": "ipython3",
   "version": "3.11.4"
  }
 },
 "nbformat": 4,
 "nbformat_minor": 1
}
