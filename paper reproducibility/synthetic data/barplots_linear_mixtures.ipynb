{
 "cells": [
  {
   "cell_type": "code",
   "execution_count": 1,
   "metadata": {
    "ExecuteTime": {
     "end_time": "2024-01-03T13:05:22.354800Z",
     "start_time": "2024-01-03T13:05:21.965456Z"
    },
    "collapsed": true
   },
   "outputs": [],
   "source": [
    "import glob\n",
    "import os\n",
    "\n",
    "from matplotlib import pyplot as plt\n",
    "import numpy as np\n",
    "import pandas as pd"
   ]
  },
  {
   "cell_type": "code",
   "execution_count": 2,
   "metadata": {
    "ExecuteTime": {
     "end_time": "2024-01-03T13:05:22.356722Z",
     "start_time": "2024-01-03T13:05:22.355382Z"
    }
   },
   "outputs": [],
   "source": [
    "# Set all fontsizes to 6\n",
    "plt.rcParams.update({'font.size': 6})"
   ]
  },
  {
   "cell_type": "code",
   "execution_count": 8,
   "metadata": {
    "ExecuteTime": {
     "end_time": "2024-01-03T13:07:57.812747Z",
     "start_time": "2024-01-03T13:07:57.808492Z"
    }
   },
   "outputs": [],
   "source": [
    "def read_results(file, metrics = ['SAD', 'MSE'], results_order = ['PCA', 'N-FINDR + FCLS', 'VCA + FCLS', 'Dense AE', 'Convolutional AE', 'Transformer AE', 'Convolutional Transformer AE']):\n",
    "    results = pd.read_csv(file)\n",
    "\n",
    "    columns_to_keep = sum([[f'{metric}_mean', f'{metric}_std'] for metric in metrics], [])\n",
    "    results = results.set_index('index').reindex(results_order)[columns_to_keep]\n",
    "    return results"
   ]
  },
  {
   "cell_type": "code",
   "execution_count": 9,
   "metadata": {
    "ExecuteTime": {
     "end_time": "2024-01-03T13:07:58.297698Z",
     "start_time": "2024-01-03T13:07:58.294599Z"
    }
   },
   "outputs": [],
   "source": [
    "def plot_results_combined(results, with_pca=True, metrics = ['SAD', 'MSE'], figsize=(1.88, 0.8), endmember_ylim=(0, 1), abundance_ylim=(0, 0.13)):\n",
    "\n",
    "    # Define the number of baselines\n",
    "    num_baselines = 3 if with_pca else 2\n",
    "\n",
    "    # Define colors for models and baselines\n",
    "    # colors = plt.cm.get_cmap('viridis', 5)\n",
    "    # color_models = colors(1)\n",
    "    # color_baselines = colors(2)\n",
    "\n",
    "    color_models = 'cornflowerblue'\n",
    "    color_baselines = 'lightsalmon'\n",
    "\n",
    "    fig, axes = plt.subplots(1, len(metrics), figsize=figsize)\n",
    "\n",
    "    if not with_pca:\n",
    "        results = results.drop('PCA')\n",
    "\n",
    "    methods = list(results.index)\n",
    "    methods[-1] = 'Conv. Trans. AE'\n",
    "\n",
    "    for j, metric in enumerate(metrics):\n",
    "        means = [ results[f'{metric}_mean'][model] for model in results.index ]\n",
    "        errors = [ results[f'{metric}_std'][model] for model in results.index ]\n",
    "\n",
    "        baseline_indices = np.arange(num_baselines)\n",
    "        model_indices = np.arange(num_baselines, len(results.index))\n",
    "\n",
    "        means_models = [ means[i] for i in model_indices ]\n",
    "        errors_models = [ errors[i] for i in model_indices ]\n",
    "\n",
    "        means_baselines = [ means[i] for i in baseline_indices ]\n",
    "        errors_baselines = [ errors[i] for i in baseline_indices ]\n",
    "\n",
    "\n",
    "        # Plot the bars for baselines with a different pattern\n",
    "        axes[j].bar(baseline_indices, means_baselines, align='center',  color=color_baselines, zorder=1)\n",
    "        axes[j].errorbar(baseline_indices, means_baselines, yerr=errors_baselines, zorder=0, color='black', capsize=2, fmt='none')\n",
    "\n",
    "        # Plot the bars for models\n",
    "        axes[j].bar(model_indices, means_models, align='center', color=color_models, zorder=1)\n",
    "        axes[j].errorbar(model_indices, means_models, yerr=errors_models, zorder=0, color='black', capsize=2, fmt='none')\n",
    "\n",
    "        # Add some text for labels, title and axes ticks\n",
    "        axes[j].set_xticks(np.arange(len(results.index)))\n",
    "        # axes[j].set_xticklabels(methods, rotation=90)\n",
    "        # axes[j].set_ylabel(metric)\n",
    "\n",
    "        y_lim = endmember_ylim if metric == 'SAD' else abundance_ylim\n",
    "        axes[j].set_ylim(y_lim)\n",
    "\n",
    "        y_ticks = [0, endmember_ylim[1]] if metric == 'SAD' else [0, abundance_ylim[1]]\n",
    "        axes[j].set_yticks(y_ticks)\n",
    "        axes[j].set_yticklabels([])\n",
    "\n",
    "        # axes[j].yaxis.grid(True)\n",
    "        axes[j].set_xlim(-1, len(results.index))\n",
    "\n",
    "        # title = 'Endmember' if metric == 'SAD' else 'Abundance'\n",
    "        # axes[j].set_title(f'{title}\\nerror', fontsize=9)\n",
    "\n",
    "        if j > 0:\n",
    "            # move y-axis to the right\n",
    "            axes[j].yaxis.tick_right()\n",
    "            axes[j].yaxis.set_label_position(\"right\")\n",
    "\n",
    "        if j == 0:\n",
    "            # remove right y-axis\n",
    "            axes[j].spines['right'].set_visible(False)\n",
    "        if j == 1:\n",
    "            # make left y-axis dashed\n",
    "            axes[j].spines['left'].set_linestyle((0, (5, 5)))\n",
    "\n",
    "    # remove space between plots\n",
    "    fig.subplots_adjust(wspace=0)\n",
    "\n",
    "    # Show the plot\n",
    "    return fig"
   ]
  },
  {
   "cell_type": "markdown",
   "metadata": {},
   "source": [
    "# Plot results on synthetic data"
   ]
  },
  {
   "cell_type": "code",
   "execution_count": 10,
   "metadata": {
    "ExecuteTime": {
     "end_time": "2024-01-03T13:08:01.530573Z",
     "start_time": "2024-01-03T13:08:01.526295Z"
    }
   },
   "outputs": [],
   "source": [
    "synth_results_folder = 'results'\n",
    "save_to = 'barplots'\n",
    "scenes = ['chessboard', 'gaussian', 'dirichlet']\n",
    "\n",
    "os.makedirs(save_to, exist_ok=True)"
   ]
  },
  {
   "cell_type": "markdown",
   "metadata": {},
   "source": [
    "ideal scenario"
   ]
  },
  {
   "cell_type": "code",
   "execution_count": 107,
   "metadata": {
    "ExecuteTime": {
     "end_time": "2023-12-26T12:12:39.869518Z",
     "start_time": "2023-12-26T12:12:39.168648Z"
    }
   },
   "outputs": [
    {
     "name": "stdout",
     "output_type": "stream",
     "text": [
      "chessboard\n"
     ]
    },
    {
     "data": {
      "image/png": "[encoded data removed]",
      "text/plain": [
       "<Figure size 188x80 with 2 Axes>"
      ]
     },
     "metadata": {},
     "output_type": "display_data"
    },
    {
     "name": "stdout",
     "output_type": "stream",
     "text": [
      "gaussian\n"
     ]
    },
    {
     "data": {
      "image/png": "[encoded data removed]",
      "text/plain": [
       "<Figure size 188x80 with 2 Axes>"
      ]
     },
     "metadata": {},
     "output_type": "display_data"
    },
    {
     "name": "stdout",
     "output_type": "stream",
     "text": [
      "dirichlet\n"
     ]
    },
    {
     "data": {
      "image/png": "[encoded data removed]",
      "text/plain": [
       "<Figure size 188x80 with 2 Axes>"
      ]
     },
     "metadata": {},
     "output_type": "display_data"
    }
   ],
   "source": [
    "scenario_name = 'ideal'\n",
    "os.makedirs(os.path.join(save_to, scenario_name), exist_ok=True)\n",
    "\n",
    "for scene in scenes:\n",
    "    scene = os.path.join(synth_results_folder, scenario_name, scene)\n",
    "\n",
    "    scene_type = scene.split(\"/\")[-1]\n",
    "    results = read_results(f'{scene}/metrics_total.csv')\n",
    "\n",
    "    print(scene_type)\n",
    "    fig = plot_results_combined(results, with_pca=False)\n",
    "\n",
    "    fig.savefig(f'{save_to}/{scenario_name}/{scene_type}.png', dpi=1200)\n",
    "\n",
    "    plt.show()"
   ]
  },
  {
   "cell_type": "markdown",
   "metadata": {},
   "source": [
    "+artefacts scenario"
   ]
  },
  {
   "cell_type": "code",
   "execution_count": 108,
   "metadata": {
    "ExecuteTime": {
     "end_time": "2023-12-26T12:12:40.473011Z",
     "start_time": "2023-12-26T12:12:39.942352Z"
    }
   },
   "outputs": [
    {
     "name": "stdout",
     "output_type": "stream",
     "text": [
      "chessboard\n"
     ]
    },
    {
     "data": {
      "image/png": "[encoded data removed]",
      "text/plain": [
       "<Figure size 188x80 with 2 Axes>"
      ]
     },
     "metadata": {},
     "output_type": "display_data"
    },
    {
     "name": "stdout",
     "output_type": "stream",
     "text": [
      "gaussian\n"
     ]
    },
    {
     "data": {
      "image/png": "[encoded data removed]",
      "text/plain": [
       "<Figure size 188x80 with 2 Axes>"
      ]
     },
     "metadata": {},
     "output_type": "display_data"
    },
    {
     "name": "stdout",
     "output_type": "stream",
     "text": [
      "dirichlet\n"
     ]
    },
    {
     "data": {
      "image/png": "[encoded data removed]",
      "text/plain": [
       "<Figure size 188x80 with 2 Axes>"
      ]
     },
     "metadata": {},
     "output_type": "display_data"
    }
   ],
   "source": [
    "scenario_name = 'artefacts'\n",
    "os.makedirs(os.path.join(save_to, scenario_name), exist_ok=True)\n",
    "\n",
    "for scene in scenes:\n",
    "    scene = os.path.join(synth_results_folder, scenario_name, scene)\n",
    "\n",
    "    scene_type = scene.split(\"/\")[-1]\n",
    "    results = read_results(f'{scene}/metrics_total.csv')\n",
    "\n",
    "    print(scene_type)\n",
    "    fig = plot_results_combined(results, with_pca=False)\n",
    "\n",
    "    fig.savefig(f'{save_to}/{scenario_name}/{scene_type}.png', dpi=1200)\n",
    "\n",
    "    plt.show()"
   ]
  },
  {
   "cell_type": "markdown",
   "metadata": {},
   "source": [
    "+realistic scenario"
   ]
  },
  {
   "cell_type": "code",
   "execution_count": 109,
   "metadata": {
    "ExecuteTime": {
     "end_time": "2023-12-26T12:12:41.944488Z",
     "start_time": "2023-12-26T12:12:41.435611Z"
    }
   },
   "outputs": [
    {
     "name": "stdout",
     "output_type": "stream",
     "text": [
      "chessboard\n"
     ]
    },
    {
     "data": {
      "image/png": "[encoded data removed]",
      "text/plain": [
       "<Figure size 188x80 with 2 Axes>"
      ]
     },
     "metadata": {},
     "output_type": "display_data"
    },
    {
     "name": "stdout",
     "output_type": "stream",
     "text": [
      "gaussian\n"
     ]
    },
    {
     "data": {
      "image/png": "[encoded data removed]",
      "text/plain": [
       "<Figure size 188x80 with 2 Axes>"
      ]
     },
     "metadata": {},
     "output_type": "display_data"
    },
    {
     "name": "stdout",
     "output_type": "stream",
     "text": [
      "dirichlet\n"
     ]
    },
    {
     "data": {
      "image/png": "[encoded data removed]",
      "text/plain": [
       "<Figure size 188x80 with 2 Axes>"
      ]
     },
     "metadata": {},
     "output_type": "display_data"
    }
   ],
   "source": [
    "scenario_name = 'realistic'\n",
    "os.makedirs(os.path.join(save_to, scenario_name), exist_ok=True)\n",
    "\n",
    "for scene in scenes:\n",
    "    scene = os.path.join(synth_results_folder, scenario_name, scene)\n",
    "\n",
    "    scene_type = scene.split(\"/\")[-1]\n",
    "    results = read_results(f'{scene}/metrics_total.csv')\n",
    "\n",
    "    print(scene_type)\n",
    "    fig = plot_results_combined(results, with_pca=False)\n",
    "\n",
    "    fig.savefig(f'{save_to}/{scenario_name}/{scene_type}.png', dpi=1200)\n",
    "\n",
    "    plt.show()"
   ]
  },
  {
   "cell_type": "code",
   "execution_count": null,
   "metadata": {},
   "outputs": [],
   "source": []
  }
 ],
 "metadata": {
  "kernelspec": {
   "display_name": "Python 3 (ipykernel)",
   "language": "python",
   "name": "python3"
  },
  "language_info": {
   "codemirror_mode": {
    "name": "ipython",
    "version": 3
   },
   "file_extension": ".py",
   "mimetype": "text/x-python",
   "name": "python",
   "nbconvert_exporter": "python",
   "pygments_lexer": "ipython3",
   "version": "3.11.4"
  }
 },
 "nbformat": 4,
 "nbformat_minor": 1
}
