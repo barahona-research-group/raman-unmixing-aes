{
 "cells": [
  {
   "cell_type": "code",
   "execution_count": 1,
   "metadata": {
    "ExecuteTime": {
     "end_time": "2024-01-03T13:05:22.354800Z",
     "start_time": "2024-01-03T13:05:21.965456Z"
    },
    "collapsed": true
   },
   "outputs": [],
   "source": [
    "import glob\n",
    "import os\n",
    "\n",
    "from matplotlib import pyplot as plt\n",
    "import numpy as np\n",
    "import pandas as pd"
   ]
  },
  {
   "cell_type": "code",
   "execution_count": 2,
   "metadata": {
    "ExecuteTime": {
     "end_time": "2024-01-03T13:05:22.356722Z",
     "start_time": "2024-01-03T13:05:22.355382Z"
    }
   },
   "outputs": [],
   "source": [
    "# Set all fontsizes to 6\n",
    "plt.rcParams.update({'font.size': 6})"
   ]
  },
  {
   "cell_type": "code",
   "execution_count": 8,
   "metadata": {
    "ExecuteTime": {
     "end_time": "2024-01-03T13:07:57.812747Z",
     "start_time": "2024-01-03T13:07:57.808492Z"
    }
   },
   "outputs": [],
   "source": [
    "def read_results(file, metrics = ['SAD', 'MSE'], results_order = ['PCA', 'N-FINDR + FCLS', 'VCA + FCLS', 'Dense AE', 'Convolutional AE', 'Transformer AE', 'Convolutional Transformer AE']):\n",
    "    results = pd.read_csv(file)\n",
    "\n",
    "    columns_to_keep = sum([[f'{metric}_mean', f'{metric}_std'] for metric in metrics], [])\n",
    "    results = results.set_index('index').reindex(results_order)[columns_to_keep]\n",
    "    return results"
   ]
  },
  {
   "cell_type": "code",
   "execution_count": 9,
   "metadata": {
    "ExecuteTime": {
     "end_time": "2024-01-03T13:07:58.297698Z",
     "start_time": "2024-01-03T13:07:58.294599Z"
    }
   },
   "outputs": [],
   "source": [
    "def plot_results_combined(results, with_pca=True, metrics = ['SAD', 'MSE'], figsize=(1.88, 0.8), endmember_ylim=(0, 1), abundance_ylim=(0, 0.13)):\n",
    "\n",
    "    # Define the number of baselines\n",
    "    num_baselines = 3 if with_pca else 2\n",
    "\n",
    "    # Define colors for models and baselines\n",
    "    # colors = plt.cm.get_cmap('viridis', 5)\n",
    "    # color_models = colors(1)\n",
    "    # color_baselines = colors(2)\n",
    "\n",
    "    color_models = 'cornflowerblue'\n",
    "    color_baselines = 'lightsalmon'\n",
    "\n",
    "    fig, axes = plt.subplots(1, len(metrics), figsize=figsize)\n",
    "\n",
    "    if not with_pca:\n",
    "        results = results.drop('PCA')\n",
    "\n",
    "    methods = list(results.index)\n",
    "    methods[-1] = 'Conv. Trans. AE'\n",
    "\n",
    "    for j, metric in enumerate(metrics):\n",
    "        means = [ results[f'{metric}_mean'][model] for model in results.index ]\n",
    "        errors = [ results[f'{metric}_std'][model] for model in results.index ]\n",
    "\n",
    "        baseline_indices = np.arange(num_baselines)\n",
    "        model_indices = np.arange(num_baselines, len(results.index))\n",
    "\n",
    "        means_models = [ means[i] for i in model_indices ]\n",
    "        errors_models = [ errors[i] for i in model_indices ]\n",
    "\n",
    "        means_baselines = [ means[i] for i in baseline_indices ]\n",
    "        errors_baselines = [ errors[i] for i in baseline_indices ]\n",
    "\n",
    "\n",
    "        # Plot the bars for baselines with a different pattern\n",
    "        axes[j].bar(baseline_indices, means_baselines, align='center',  color=color_baselines, zorder=1)\n",
    "        axes[j].errorbar(baseline_indices, means_baselines, yerr=errors_baselines, zorder=0, color='black', capsize=2, fmt='none')\n",
    "\n",
    "        # Plot the bars for models\n",
    "        axes[j].bar(model_indices, means_models, align='center', color=color_models, zorder=1)\n",
    "        axes[j].errorbar(model_indices, means_models, yerr=errors_models, zorder=0, color='black', capsize=2, fmt='none')\n",
    "\n",
    "        # Add some text for labels, title and axes ticks\n",
    "        axes[j].set_xticks(np.arange(len(results.index)))\n",
    "        # axes[j].set_xticklabels(methods, rotation=90)\n",
    "        # axes[j].set_ylabel(metric)\n",
    "\n",
    "        y_lim = endmember_ylim if metric == 'SAD' else abundance_ylim\n",
    "        axes[j].set_ylim(y_lim)\n",
    "\n",
    "        y_ticks = [0, endmember_ylim[1]] if metric == 'SAD' else [0, abundance_ylim[1]]\n",
    "        axes[j].set_yticks(y_ticks)\n",
    "        axes[j].set_yticklabels([])\n",
    "\n",
    "        # axes[j].yaxis.grid(True)\n",
    "        axes[j].set_xlim(-1, len(results.index))\n",
    "\n",
    "        # title = 'Endmember' if metric == 'SAD' else 'Abundance'\n",
    "        # axes[j].set_title(f'{title}\\nerror', fontsize=9)\n",
    "\n",
    "        if j > 0:\n",
    "            # move y-axis to the right\n",
    "            axes[j].yaxis.tick_right()\n",
    "            axes[j].yaxis.set_label_position(\"right\")\n",
    "\n",
    "        if j == 0:\n",
    "            # remove right y-axis\n",
    "            axes[j].spines['right'].set_visible(False)\n",
    "        if j == 1:\n",
    "            # make left y-axis dashed\n",
    "            axes[j].spines['left'].set_linestyle((0, (5, 5)))\n",
    "\n",
    "    # remove space between plots\n",
    "    fig.subplots_adjust(wspace=0)\n",
    "\n",
    "    # Show the plot\n",
    "    return fig"
   ]
  },
  {
   "cell_type": "markdown",
   "metadata": {},
   "source": [
    "# Plot results on sugar data"
   ]
  },
  {
   "cell_type": "code",
   "execution_count": 80,
   "metadata": {
    "ExecuteTime": {
     "end_time": "2023-12-25T23:42:27.967496Z",
     "start_time": "2023-12-25T23:42:27.924741Z"
    }
   },
   "outputs": [],
   "source": [
    "save_to = 'barplots'\n",
    "sugar_scenarios = ['High SNR', 'High SNR (no refs)', 'Low SNR', 'Low SNR (no refs)']"
   ]
  },
  {
   "cell_type": "code",
   "execution_count": 111,
   "metadata": {
    "ExecuteTime": {
     "end_time": "2023-12-26T20:05:59.926217Z",
     "start_time": "2023-12-26T20:05:59.208626Z"
    }
   },
   "outputs": [
    {
     "name": "stdout",
     "output_type": "stream",
     "text": [
      "High SNR\n"
     ]
    },
    {
     "data": {
      "image/png": "[encoded data removed]",
      "text/plain": [
       "<Figure size 188x80 with 2 Axes>"
      ]
     },
     "metadata": {},
     "output_type": "display_data"
    },
    {
     "name": "stdout",
     "output_type": "stream",
     "text": [
      "High SNR (no refs)\n"
     ]
    },
    {
     "data": {
      "image/png": "[encoded data removed]",
      "text/plain": [
       "<Figure size 188x80 with 2 Axes>"
      ]
     },
     "metadata": {},
     "output_type": "display_data"
    },
    {
     "name": "stdout",
     "output_type": "stream",
     "text": [
      "Low SNR\n"
     ]
    },
    {
     "data": {
      "image/png": "[encoded data removed]",
      "text/plain": [
       "<Figure size 188x80 with 2 Axes>"
      ]
     },
     "metadata": {},
     "output_type": "display_data"
    },
    {
     "name": "stdout",
     "output_type": "stream",
     "text": [
      "Low SNR (no refs)\n"
     ]
    },
    {
     "data": {
      "image/png": "[encoded data removed]",
      "text/plain": [
       "<Figure size 188x80 with 2 Axes>"
      ]
     },
     "metadata": {},
     "output_type": "display_data"
    }
   ],
   "source": [
    "sugar_results_folder = '../results/preprocessing_customised'\n",
    "os.makedirs(save_to, exist_ok=True)\n",
    "\n",
    "for scenario in sugar_scenarios:\n",
    "    scenario = os.path.join(sugar_results_folder, scenario)\n",
    "\n",
    "    scenario_name = scenario.split(\"/\")[-1]\n",
    "    os.makedirs(os.path.join(save_to, scenario_name), exist_ok=True)\n",
    "\n",
    "    scene_type = scenario.split(\"/\")[-1]\n",
    "\n",
    "    print(scene_type)\n",
    "\n",
    "    results = read_results(f'{scenario}/metrics.csv')\n",
    "\n",
    "    fig = plot_results_combined(results, with_pca=False, endmember_ylim=(0, 1.2), abundance_ylim=(0, 0.24))\n",
    "\n",
    "    fig.savefig(f'{save_to}/{scenario_name}/{scene_type}.png', dpi=1200)\n",
    "\n",
    "    plt.show()"
   ]
  }
 ],
 "metadata": {
  "kernelspec": {
   "display_name": "Python 3 (ipykernel)",
   "language": "python",
   "name": "python3"
  },
  "language_info": {
   "codemirror_mode": {
    "name": "ipython",
    "version": 3
   },
   "file_extension": ".py",
   "mimetype": "text/x-python",
   "name": "python",
   "nbconvert_exporter": "python",
   "pygments_lexer": "ipython3",
   "version": "3.11.4"
  }
 },
 "nbformat": 4,
 "nbformat_minor": 1
}
