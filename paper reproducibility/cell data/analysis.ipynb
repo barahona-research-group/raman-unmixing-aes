{
 "cells": [
  {
   "cell_type": "code",
   "execution_count": 1,
   "metadata": {
    "ExecuteTime": {
     "end_time": "2024-01-18T14:27:17.848771Z",
     "start_time": "2024-01-18T14:27:17.839866Z"
    }
   },
   "outputs": [],
   "source": [
    "import os\n",
    "os.environ['TF_CUDNN_DETERMINISTIC'] = '1'"
   ]
  },
  {
   "cell_type": "code",
   "execution_count": 2,
   "metadata": {
    "ExecuteTime": {
     "end_time": "2024-01-18T14:27:20.852732Z",
     "start_time": "2024-01-18T14:27:17.850788Z"
    }
   },
   "outputs": [],
   "source": [
    "import numpy as np\n",
    "import glob\n",
    "from matplotlib import pyplot as plt\n",
    "import matplotlib.patches as mpatches\n",
    "import ramanspy as rp"
   ]
  },
  {
   "cell_type": "code",
   "execution_count": 2,
   "metadata": {
    "ExecuteTime": {
     "end_time": "2024-01-18T14:27:20.854611Z",
     "start_time": "2024-01-18T14:27:20.853182Z"
    }
   },
   "outputs": [],
   "source": [
    "import sys  \n",
    "sys.path.insert(1, '../../../')\n",
    "\n",
    "import autoencoders\n",
    "import unmix"
   ]
  },
  {
   "cell_type": "markdown",
   "metadata": {},
   "source": [
    "### Parameters"
   ]
  },
  {
   "cell_type": "code",
   "execution_count": 3,
   "metadata": {
    "ExecuteTime": {
     "end_time": "2024-01-18T14:27:20.856364Z",
     "start_time": "2024-01-18T14:27:20.855168Z"
    }
   },
   "outputs": [],
   "source": [
    "num_endmembers = 20\n",
    "epochs = 20\n",
    "seed = 42\n",
    "\n",
    "results_folder = 'results'\n",
    "\n",
    "results = {}"
   ]
  },
  {
   "cell_type": "markdown",
   "metadata": {
    "ExecuteTime": {
     "end_time": "2024-01-18T14:27:20.858378Z",
     "start_time": "2024-01-18T14:27:20.857537Z"
    }
   },
   "source": [
    "### Load the data"
   ]
  },
  {
   "cell_type": "code",
   "execution_count": 4,
   "metadata": {
    "ExecuteTime": {
     "end_time": "2024-01-18T14:27:20.969141Z",
     "start_time": "2024-01-18T14:27:20.859249Z"
    }
   },
   "outputs": [],
   "source": [
    "volume = rp.SpectralVolume.from_image_stack([rp.load.witec(matlab_file) for matlab_file in sorted(glob.glob(f'raw data/*.mat'))])"
   ]
  },
  {
   "cell_type": "markdown",
   "metadata": {},
   "source": [
    "### Preprocess the data"
   ]
  },
  {
   "cell_type": "code",
   "execution_count": 5,
   "metadata": {
    "ExecuteTime": {
     "end_time": "2024-01-18T14:27:25.214971Z",
     "start_time": "2024-01-18T14:27:20.970354Z"
    }
   },
   "outputs": [],
   "source": [
    "preprocessing_pipeline = rp.preprocessing.Pipeline([\n",
    "    rp.preprocessing.misc.Cropper(region=(700, 1800)),\n",
    "    rp.preprocessing.despike.WhitakerHayes(),\n",
    "    rp.preprocessing.denoise.SavGol(window_length=7, polyorder=3),\n",
    "    rp.preprocessing.baseline.ASLS(),\n",
    "    rp.preprocessing.normalise.MinMax(a=0, b=1, pixelwise=False),\n",
    "])\n",
    "\n",
    "volume_preprocessed = preprocessing_pipeline.apply(volume)"
   ]
  },
  {
   "cell_type": "markdown",
   "metadata": {
    "ExecuteTime": {
     "end_time": "2024-01-18T14:27:25.226957Z",
     "start_time": "2024-01-18T14:27:25.215187Z"
    }
   },
   "source": [
    "### Define models"
   ]
  },
  {
   "cell_type": "code",
   "execution_count": 20,
   "metadata": {
    "ExecuteTime": {
     "end_time": "2024-01-18T19:03:44.997629Z",
     "start_time": "2024-01-18T19:03:44.928256Z"
    }
   },
   "outputs": [],
   "source": [
    "def init_models(n_end):\n",
    "    return [\n",
    "        ('vca', rp.analysis.unmix.VCA(n_endmembers=n_end, abundance_method='nnls')),\n",
    "        ('dense_ae_linear', autoencoders.DenseAE(input_dim=len(volume_preprocessed.spectral_axis), bottleneck_dim=n_end, decoder_type='linear', asc=False, encoder_hidden_dims=[128])),\n",
    "        ('deep_dense_ae_linear', autoencoders.DenseAE(input_dim=len(volume_preprocessed.spectral_axis), bottleneck_dim=n_end, asc=False, decoder_type='linear', encoder_hidden_dims=[512, 256, 128, 64, 32])),\n",
    "    ]"
   ]
  },
  {
   "cell_type": "markdown",
   "metadata": {},
   "source": [
    "### Perform analysis"
   ]
  },
  {
   "cell_type": "code",
   "execution_count": null,
   "metadata": {
    "ExecuteTime": {
     "end_time": "2024-01-18T19:09:13.512811Z",
     "start_time": "2024-01-18T19:07:38.643666Z"
    }
   },
   "outputs": [],
   "source": [
    "methods = init_models(20)\n",
    "\n",
    "for name, method in methods:\n",
    "    print(f'Unmixing with {name}')\n",
    "\n",
    "    unmix.set_seeds(int(seed))\n",
    "\n",
    "    endmembers, abundance_maps = unmix.unmixing(method, volume_preprocessed, epochs=epochs)\n",
    "\n",
    "    results[name] = (endmembers, abundance_maps)"
   ]
  }
 ],
 "metadata": {
  "kernelspec": {
   "display_name": "Python 3 (ipykernel)",
   "language": "python",
   "name": "python3"
  },
  "language_info": {
   "codemirror_mode": {
    "name": "ipython",
    "version": 3
   },
   "file_extension": ".py",
   "mimetype": "text/x-python",
   "name": "python",
   "nbconvert_exporter": "python",
   "pygments_lexer": "ipython3",
   "version": "3.11.4"
  }
 },
 "nbformat": 4,
 "nbformat_minor": 1
}
